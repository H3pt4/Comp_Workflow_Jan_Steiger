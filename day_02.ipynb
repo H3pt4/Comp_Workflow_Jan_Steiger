{
 "cells": [
  {
   "cell_type": "markdown",
   "metadata": {},
   "source": [
    "# Day 2\n",
    "\n",
    "Today, we will start using nf-core pipelines to find differentially abundant genes in our dataset. \n",
    "We are using data from the following paper: https://www.nature.com/articles/s41593-023-01350-3#Sec10"
   ]
  },
  {
   "cell_type": "markdown",
   "metadata": {
    "vscode": {
     "languageId": "plaintext"
    }
   },
   "source": [
    "1. Please take some time to read through the paper and understand their approach, hypotheses and goals."
   ]
  },
  {
   "cell_type": "markdown",
   "metadata": {
    "vscode": {
     "languageId": "plaintext"
    }
   },
   "source": [
    "What was the objective of the study?"
   ]
  },
  {
   "cell_type": "markdown",
   "metadata": {},
   "source": [
    "To study the effect of opioid (oxycodone) exposure and subsequent withdrawel on weight gain and other physiological responses, as well as gene expression levels in mice (specifically in mice with prolonged spare nerve injury)."
   ]
  },
  {
   "cell_type": "markdown",
   "metadata": {
    "vscode": {
     "languageId": "plaintext"
    }
   },
   "source": [
    "What do the conditions mean?"
   ]
  },
  {
   "cell_type": "markdown",
   "metadata": {},
   "source": [
    "oxy: chronic oxycodone injections\n",
    "\n",
    "\n",
    "sal: saline control"
   ]
  },
  {
   "cell_type": "markdown",
   "metadata": {},
   "source": [
    "What do the genotypes mean?"
   ]
  },
  {
   "cell_type": "markdown",
   "metadata": {},
   "source": [
    "SNI: spare nerve injury\n",
    "\n",
    "\n",
    "Sham: sham control"
   ]
  },
  {
   "cell_type": "markdown",
   "metadata": {},
   "source": [
    "Imagine you are the bioinformatician in the group who conducted this study. They hand you the raw files and ask you to analyze them.\n",
    "\n",
    "What would you do?\n",
    "\n",
    "Which groups would you compare to each other?\n",
    "\n",
    "Please also mention which outcome you would expect to see from each comparison."
   ]
  },
  {
   "cell_type": "markdown",
   "metadata": {},
   "source": [
    "First, I would compare the results of the chronic oxycodone groups with the saline control and the results of the SNI groups with the sham control. Here, I would expect differing observations for control and condition/genotype for at least some of the measures. After that, I would look at the impact of the condition on the genotype (or vice versa), how does the same genotype behave for the same condition, how does the same condition affect the results for different phenotypes and stuff like that. For those comparison, many of the observed elements might stay the same."
   ]
  },
  {
   "cell_type": "markdown",
   "metadata": {},
   "source": [
    "Your group gave you a very suboptimal excel sheet (conditions_runs_oxy_project.xlsx) to get the information you need for each run they uploaded to the SRA.<br>\n",
    "So, instead of directly diving into downloading the data and starting the analysis, you first need to sort the lazy table.<br>\n",
    "Use Python and Pandas to get the table into a more sensible order.<br>\n",
    "Then, perform some overview analysis and plot the results\n",
    "1. How many samples do you have per condition?\n",
    "2. How many samples do you have per genotype?\n",
    "3. How often do you have each condition per genotype?"
   ]
  },
  {
   "cell_type": "code",
   "execution_count": 5,
   "metadata": {},
   "outputs": [],
   "source": [
    "import pandas as pd\n",
    "import numpy as np\n",
    "import matplotlib.pyplot as plt"
   ]
  },
  {
   "cell_type": "code",
   "execution_count": 7,
   "metadata": {},
   "outputs": [
    {
     "data": {
      "text/html": [
       "<div>\n",
       "<style scoped>\n",
       "    .dataframe tbody tr th:only-of-type {\n",
       "        vertical-align: middle;\n",
       "    }\n",
       "\n",
       "    .dataframe tbody tr th {\n",
       "        vertical-align: top;\n",
       "    }\n",
       "\n",
       "    .dataframe thead th {\n",
       "        text-align: right;\n",
       "    }\n",
       "</style>\n",
       "<table border=\"1\" class=\"dataframe\">\n",
       "  <thead>\n",
       "    <tr style=\"text-align: right;\">\n",
       "      <th></th>\n",
       "      <th>Sample</th>\n",
       "      <th>Condition</th>\n",
       "      <th>Genotype</th>\n",
       "    </tr>\n",
       "  </thead>\n",
       "  <tbody>\n",
       "    <tr>\n",
       "      <th>0</th>\n",
       "      <td>SRR23195505</td>\n",
       "      <td>Sal</td>\n",
       "      <td>SNI</td>\n",
       "    </tr>\n",
       "    <tr>\n",
       "      <th>1</th>\n",
       "      <td>SRR23195506</td>\n",
       "      <td>Oxy</td>\n",
       "      <td>Sham</td>\n",
       "    </tr>\n",
       "    <tr>\n",
       "      <th>2</th>\n",
       "      <td>SRR23195507</td>\n",
       "      <td>Sal</td>\n",
       "      <td>Sham</td>\n",
       "    </tr>\n",
       "    <tr>\n",
       "      <th>3</th>\n",
       "      <td>SRR23195508</td>\n",
       "      <td>Oxy</td>\n",
       "      <td>SNI</td>\n",
       "    </tr>\n",
       "    <tr>\n",
       "      <th>4</th>\n",
       "      <td>SRR23195509</td>\n",
       "      <td>Oxy</td>\n",
       "      <td>SNI</td>\n",
       "    </tr>\n",
       "    <tr>\n",
       "      <th>5</th>\n",
       "      <td>SRR23195510</td>\n",
       "      <td>Sal</td>\n",
       "      <td>SNI</td>\n",
       "    </tr>\n",
       "    <tr>\n",
       "      <th>6</th>\n",
       "      <td>SRR23195511</td>\n",
       "      <td>Oxy</td>\n",
       "      <td>Sham</td>\n",
       "    </tr>\n",
       "    <tr>\n",
       "      <th>7</th>\n",
       "      <td>SRR23195512</td>\n",
       "      <td>Sal</td>\n",
       "      <td>Sham</td>\n",
       "    </tr>\n",
       "    <tr>\n",
       "      <th>8</th>\n",
       "      <td>SRR23195513</td>\n",
       "      <td>Sal</td>\n",
       "      <td>SNI</td>\n",
       "    </tr>\n",
       "    <tr>\n",
       "      <th>9</th>\n",
       "      <td>SRR23195514</td>\n",
       "      <td>Oxy</td>\n",
       "      <td>Sham</td>\n",
       "    </tr>\n",
       "    <tr>\n",
       "      <th>10</th>\n",
       "      <td>SRR23195515</td>\n",
       "      <td>Sal</td>\n",
       "      <td>Sham</td>\n",
       "    </tr>\n",
       "    <tr>\n",
       "      <th>11</th>\n",
       "      <td>SRR23195516</td>\n",
       "      <td>Oxy</td>\n",
       "      <td>SNI</td>\n",
       "    </tr>\n",
       "    <tr>\n",
       "      <th>12</th>\n",
       "      <td>SRR23195517</td>\n",
       "      <td>Oxy</td>\n",
       "      <td>SNI</td>\n",
       "    </tr>\n",
       "    <tr>\n",
       "      <th>13</th>\n",
       "      <td>SRR23195518</td>\n",
       "      <td>Sal</td>\n",
       "      <td>SNI</td>\n",
       "    </tr>\n",
       "    <tr>\n",
       "      <th>14</th>\n",
       "      <td>SRR23195519</td>\n",
       "      <td>Oxy</td>\n",
       "      <td>Sham</td>\n",
       "    </tr>\n",
       "    <tr>\n",
       "      <th>15</th>\n",
       "      <td>SRR23195520</td>\n",
       "      <td>Sal</td>\n",
       "      <td>Sham</td>\n",
       "    </tr>\n",
       "  </tbody>\n",
       "</table>\n",
       "</div>"
      ],
      "text/plain": [
       "         Sample Condition Genotype\n",
       "0   SRR23195505       Sal      SNI\n",
       "1   SRR23195506       Oxy     Sham\n",
       "2   SRR23195507       Sal     Sham\n",
       "3   SRR23195508       Oxy      SNI\n",
       "4   SRR23195509       Oxy      SNI\n",
       "5   SRR23195510       Sal      SNI\n",
       "6   SRR23195511       Oxy     Sham\n",
       "7   SRR23195512       Sal     Sham\n",
       "8   SRR23195513       Sal      SNI\n",
       "9   SRR23195514       Oxy     Sham\n",
       "10  SRR23195515       Sal     Sham\n",
       "11  SRR23195516       Oxy      SNI\n",
       "12  SRR23195517       Oxy      SNI\n",
       "13  SRR23195518       Sal      SNI\n",
       "14  SRR23195519       Oxy     Sham\n",
       "15  SRR23195520       Sal     Sham"
      ]
     },
     "execution_count": 7,
     "metadata": {},
     "output_type": "execute_result"
    }
   ],
   "source": [
    "data=pd.read_excel('conditions_runs_oxy_project.xlsx')\n",
    "data.rename(columns={'Run': 'Sample'}, inplace=True)\n",
    "data['condition: Sal']=data['condition: Sal'].notna()\n",
    "data['Genotype: SNI']=data['Genotype: SNI'].notna()\n",
    "data['Condition'] = np.where(data['condition: Sal'] == True, 'Sal', 'Oxy')\n",
    "data['Genotype'] = np.where(data['Genotype: SNI'] == True, 'SNI', 'Sham')\n",
    "data=data[['Sample', 'Condition', 'Genotype']]\n",
    "data"
   ]
  },
  {
   "cell_type": "code",
   "execution_count": 8,
   "metadata": {},
   "outputs": [],
   "source": [
    "import matplotlib.pyplot as plt"
   ]
  },
  {
   "cell_type": "code",
   "execution_count": 9,
   "metadata": {},
   "outputs": [
    {
     "data": {
      "image/png": "[encoded data removed]",
      "text/plain": [
       "<Figure size 640x480 with 1 Axes>"
      ]
     },
     "metadata": {},
     "output_type": "display_data"
    }
   ],
   "source": [
    "condition_counts = data['Condition'].value_counts()\n",
    "condition_counts.plot(kind='bar')\n",
    "\n",
    "plt.xlabel('Condition')\n",
    "plt.ylabel('Count')\n",
    "\n",
    "plt.show()\n"
   ]
  },
  {
   "cell_type": "code",
   "execution_count": 10,
   "metadata": {},
   "outputs": [
    {
     "data": {
      "image/png": "[encoded data removed]",
      "text/plain": [
       "<Figure size 640x480 with 1 Axes>"
      ]
     },
     "metadata": {},
     "output_type": "display_data"
    }
   ],
   "source": [
    "genotype_counts = data['Genotype'].value_counts()\n",
    "genotype_counts.plot(kind='bar')\n",
    "\n",
    "plt.xlabel('Genotype')\n",
    "plt.ylabel('Count')\n",
    "\n",
    "plt.show()\n"
   ]
  },
  {
   "cell_type": "code",
   "execution_count": 11,
   "metadata": {},
   "outputs": [
    {
     "data": {
      "image/png": "[encoded data removed]",
      "text/plain": [
       "<Figure size 640x480 with 1 Axes>"
      ]
     },
     "metadata": {},
     "output_type": "display_data"
    }
   ],
   "source": [
    "combinations = data.groupby(['Condition', 'Genotype']).size().reset_index(name='Multiplicity')\n",
    "combinations['Group'] = combinations['Condition'] + '-' + combinations['Genotype']\n",
    "\n",
    "plt.bar(combinations['Group'], combinations['Multiplicity'])\n",
    "\n",
    "plt.xlabel('Group')\n",
    "plt.ylabel('Occurences')\n",
    "\n",
    "plt.show()\n",
    "\n"
   ]
  },
  {
   "cell_type": "markdown",
   "metadata": {},
   "source": [
    "They were so kind to also provide you with the information of the number of bases per run, so that you can know how much space the data will take on your Cluster.<br>\n",
    "Add a new column to your fancy table with this information (base_counts.csv) and sort your dataframe according to this information and the condition.\n",
    "\n",
    "Then select the 2 smallest runs from your dataset and download them from SRA (maybe an nf-core pipeline can help here?...)"
   ]
  },
  {
   "cell_type": "code",
   "execution_count": 12,
   "metadata": {},
   "outputs": [
    {
     "name": "stderr",
     "output_type": "stream",
     "text": [
      "/var/folders/lz/f3d23yln2g90561bcvk0850h0000gp/T/ipykernel_32783/3021940219.py:4: DeprecationWarning: DataFrameGroupBy.apply operated on the grouping columns. This behavior is deprecated, and in a future version of pandas the grouping columns will be excluded from the operation. Either pass `include_groups=False` to exclude the groupings or explicitly select the grouping columns after groupby to silence this warning.\n",
      "  sorted_data = sorted_data.groupby('Condition').apply(lambda x: x.sort_values('Bases')).reset_index(drop=True)\n"
     ]
    },
    {
     "data": {
      "text/html": [
       "<div>\n",
       "<style scoped>\n",
       "    .dataframe tbody tr th:only-of-type {\n",
       "        vertical-align: middle;\n",
       "    }\n",
       "\n",
       "    .dataframe tbody tr th {\n",
       "        vertical-align: top;\n",
       "    }\n",
       "\n",
       "    .dataframe thead th {\n",
       "        text-align: right;\n",
       "    }\n",
       "</style>\n",
       "<table border=\"1\" class=\"dataframe\">\n",
       "  <thead>\n",
       "    <tr style=\"text-align: right;\">\n",
       "      <th></th>\n",
       "      <th>Sample</th>\n",
       "      <th>Condition</th>\n",
       "      <th>Genotype</th>\n",
       "      <th>Bases</th>\n",
       "    </tr>\n",
       "  </thead>\n",
       "  <tbody>\n",
       "    <tr>\n",
       "      <th>0</th>\n",
       "      <td>SRR23195516</td>\n",
       "      <td>Oxy</td>\n",
       "      <td>SNI</td>\n",
       "      <td>6203117700</td>\n",
       "    </tr>\n",
       "    <tr>\n",
       "      <th>1</th>\n",
       "      <td>SRR23195511</td>\n",
       "      <td>Oxy</td>\n",
       "      <td>Sham</td>\n",
       "      <td>6456390900</td>\n",
       "    </tr>\n",
       "    <tr>\n",
       "      <th>2</th>\n",
       "      <td>SRR23195517</td>\n",
       "      <td>Oxy</td>\n",
       "      <td>SNI</td>\n",
       "      <td>6863840400</td>\n",
       "    </tr>\n",
       "    <tr>\n",
       "      <th>3</th>\n",
       "      <td>SRR23195508</td>\n",
       "      <td>Oxy</td>\n",
       "      <td>SNI</td>\n",
       "      <td>6927786900</td>\n",
       "    </tr>\n",
       "    <tr>\n",
       "      <th>4</th>\n",
       "      <td>SRR23195519</td>\n",
       "      <td>Oxy</td>\n",
       "      <td>Sham</td>\n",
       "      <td>6996050100</td>\n",
       "    </tr>\n",
       "    <tr>\n",
       "      <th>5</th>\n",
       "      <td>SRR23195509</td>\n",
       "      <td>Oxy</td>\n",
       "      <td>SNI</td>\n",
       "      <td>7003550100</td>\n",
       "    </tr>\n",
       "    <tr>\n",
       "      <th>6</th>\n",
       "      <td>SRR23195514</td>\n",
       "      <td>Oxy</td>\n",
       "      <td>Sham</td>\n",
       "      <td>7226808600</td>\n",
       "    </tr>\n",
       "    <tr>\n",
       "      <th>7</th>\n",
       "      <td>SRR23195506</td>\n",
       "      <td>Oxy</td>\n",
       "      <td>Sham</td>\n",
       "      <td>7859530800</td>\n",
       "    </tr>\n",
       "    <tr>\n",
       "      <th>8</th>\n",
       "      <td>SRR23195505</td>\n",
       "      <td>Sal</td>\n",
       "      <td>SNI</td>\n",
       "      <td>6922564500</td>\n",
       "    </tr>\n",
       "    <tr>\n",
       "      <th>9</th>\n",
       "      <td>SRR23195510</td>\n",
       "      <td>Sal</td>\n",
       "      <td>SNI</td>\n",
       "      <td>7377388500</td>\n",
       "    </tr>\n",
       "    <tr>\n",
       "      <th>10</th>\n",
       "      <td>SRR23195512</td>\n",
       "      <td>Sal</td>\n",
       "      <td>Sham</td>\n",
       "      <td>7462857900</td>\n",
       "    </tr>\n",
       "    <tr>\n",
       "      <th>11</th>\n",
       "      <td>SRR23195520</td>\n",
       "      <td>Sal</td>\n",
       "      <td>Sham</td>\n",
       "      <td>7858146000</td>\n",
       "    </tr>\n",
       "    <tr>\n",
       "      <th>12</th>\n",
       "      <td>SRR23195518</td>\n",
       "      <td>Sal</td>\n",
       "      <td>SNI</td>\n",
       "      <td>7908500400</td>\n",
       "    </tr>\n",
       "    <tr>\n",
       "      <th>13</th>\n",
       "      <td>SRR23195507</td>\n",
       "      <td>Sal</td>\n",
       "      <td>Sham</td>\n",
       "      <td>8063298900</td>\n",
       "    </tr>\n",
       "    <tr>\n",
       "      <th>14</th>\n",
       "      <td>SRR23195513</td>\n",
       "      <td>Sal</td>\n",
       "      <td>SNI</td>\n",
       "      <td>8099181600</td>\n",
       "    </tr>\n",
       "    <tr>\n",
       "      <th>15</th>\n",
       "      <td>SRR23195515</td>\n",
       "      <td>Sal</td>\n",
       "      <td>Sham</td>\n",
       "      <td>8169101700</td>\n",
       "    </tr>\n",
       "  </tbody>\n",
       "</table>\n",
       "</div>"
      ],
      "text/plain": [
       "         Sample Condition Genotype       Bases\n",
       "0   SRR23195516       Oxy      SNI  6203117700\n",
       "1   SRR23195511       Oxy     Sham  6456390900\n",
       "2   SRR23195517       Oxy      SNI  6863840400\n",
       "3   SRR23195508       Oxy      SNI  6927786900\n",
       "4   SRR23195519       Oxy     Sham  6996050100\n",
       "5   SRR23195509       Oxy      SNI  7003550100\n",
       "6   SRR23195514       Oxy     Sham  7226808600\n",
       "7   SRR23195506       Oxy     Sham  7859530800\n",
       "8   SRR23195505       Sal      SNI  6922564500\n",
       "9   SRR23195510       Sal      SNI  7377388500\n",
       "10  SRR23195512       Sal     Sham  7462857900\n",
       "11  SRR23195520       Sal     Sham  7858146000\n",
       "12  SRR23195518       Sal      SNI  7908500400\n",
       "13  SRR23195507       Sal     Sham  8063298900\n",
       "14  SRR23195513       Sal      SNI  8099181600\n",
       "15  SRR23195515       Sal     Sham  8169101700"
      ]
     },
     "execution_count": 12,
     "metadata": {},
     "output_type": "execute_result"
    }
   ],
   "source": [
    "base_counts = pd.read_csv('base_counts.csv')\n",
    "sorted_data = data\n",
    "sorted_data['Bases'] = base_counts['Bases']\n",
    "sorted_data = sorted_data.groupby('Condition').apply(lambda x: x.sort_values('Bases')).reset_index(drop=True)\n",
    "sorted_data"
   ]
  },
  {
   "cell_type": "code",
   "execution_count": 13,
   "metadata": {},
   "outputs": [],
   "source": [
    "sample_sheet = sorted_data['Sample'][:2]\n",
    "sample_sheet.to_csv('sample_sheet.csv', index=False, header=False)"
   ]
  },
  {
   "cell_type": "code",
   "execution_count": 1,
   "metadata": {},
   "outputs": [
    {
     "name": "stdout",
     "output_type": "stream",
     "text": [
      "\u001b[33mNextflow 24.04.4 is available - Please consider updating your version to it\u001b[m\n",
      "N E X T F L O W  ~  version 23.10.0\n",
      "Launching `https://github.com/nf-core/fetchngs` [big_goldberg] DSL2 - revision: 8ec2d934f9 [master]\n",
      "\u001b[33mWARN: Access to undefined parameter `monochromeLogs` -- Initialise it to a default value eg. `params.monochromeLogs = some_value`\u001b[39m\u001b[K\n",
      "\n",
      "\n",
      "-\u001b[2m----------------------------------------------------\u001b[0m-\n",
      "                                        \u001b[0;32m,--.\u001b[0;30m/\u001b[0;32m,-.\u001b[0m\n",
      "\u001b[0;34m        ___     __   __   __   ___     \u001b[0;32m/,-._.--~'\u001b[0m\n",
      "\u001b[0;34m  |\\ | |__  __ /  ` /  \\ |__) |__         \u001b[0;33m}  {\u001b[0m\n",
      "\u001b[0;34m  | \\| |       \\__, \\__/ |  \\ |___     \u001b[0;32m\\`-._,-`-,\u001b[0m\n",
      "                                        \u001b[0;32m`._,._,'\u001b[0m\n",
      "\u001b[0;35m  nf-core/fetchngs v1.12.0-g8ec2d93\u001b[0m\n",
      "-\u001b[2m----------------------------------------------------\u001b[0m-\n",
      "\u001b[1mCore Nextflow options\u001b[0m\n",
      "  \u001b[0;34mrevision                  : \u001b[0;32mmaster\u001b[0m\n",
      "  \u001b[0;34mrunName                   : \u001b[0;32mbig_goldberg\u001b[0m\n",
      "  \u001b[0;34mcontainerEngine           : \u001b[0;32mdocker\u001b[0m\n",
      "  \u001b[0;34mlaunchDir                 : \u001b[0;32m/Users/jansteiger/Documents/Comp_workflows/day2\u001b[0m\n",
      "  \u001b[0;34mworkDir                   : \u001b[0;32m/Users/jansteiger/Documents/Comp_workflows/day2/work\u001b[0m\n",
      "  \u001b[0;34mprojectDir                : \u001b[0;32m/Users/jansteiger/.nextflow/assets/nf-core/fetchngs\u001b[0m\n",
      "  \u001b[0;34muserName                  : \u001b[0;32mjansteiger\u001b[0m\n",
      "  \u001b[0;34mprofile                   : \u001b[0;32mtest,docker\u001b[0m\n",
      "  \u001b[0;34mconfigFiles               : \u001b[0;32m\u001b[0m\n",
      "\n",
      "\u001b[1mInput/output options\u001b[0m\n",
      "  \u001b[0;34minput                     : \u001b[0;32msample_sheet.csv\u001b[0m\n",
      "  \u001b[0;34moutdir                    : \u001b[0;32mtest_sheet\u001b[0m\n",
      "\n",
      "\u001b[1mInstitutional config options\u001b[0m\n",
      "  \u001b[0;34mconfig_profile_name       : \u001b[0;32mTest profile\u001b[0m\n",
      "  \u001b[0;34mconfig_profile_description: \u001b[0;32mMinimal test dataset to check pipeline function\u001b[0m\n",
      "\n",
      "\u001b[1mMax job request options\u001b[0m\n",
      "  \u001b[0;34mmax_cpus                  : \u001b[0;32m2\u001b[0m\n",
      "  \u001b[0;34mmax_memory                : \u001b[0;32m6.GB\u001b[0m\n",
      "  \u001b[0;34mmax_time                  : \u001b[0;32m6.h\u001b[0m\n",
      "\n",
      "!! Only displaying parameters that differ from the pipeline defaults !!\n",
      "-\u001b[2m----------------------------------------------------\u001b[0m-\n",
      "If you use nf-core/fetchngs for your analysis please cite:\n",
      "\n",
      "* The pipeline\n",
      "  https://doi.org/10.5281/zenodo.5070524\n",
      "\n",
      "* The nf-core framework\n",
      "  https://doi.org/10.1038/s41587-020-0439-x\n",
      "\n",
      "* Software dependencies\n",
      "  https://github.com/nf-core/fetchngs/blob/master/CITATIONS.md\n",
      "-\u001b[2m----------------------------------------------------\u001b[0m-\n",
      "[-        ] process > NFCORE_FETCHNGS:SRA:SRA_IDS... -\u001b[K\n",
      "[-        ] process > NFCORE_FETCHNGS:SRA:SRA_RUN... -\u001b[K\n",
      "[-        ] process > NFCORE_FETCHNGS:SRA:SRA_FAS... -\u001b[K\n",
      "[-        ] process > NFCORE_FETCHNGS:SRA:FASTQ_D... -\u001b[K\n",
      "[-        ] process > NFCORE_FETCHNGS:SRA:FASTQ_D... -\u001b[K\n",
      "[-        ] process > NFCORE_FETCHNGS:SRA:FASTQ_D... -\u001b[K\n",
      "\u001b[7A\n",
      "executor >  local (2)\u001b[K\n",
      "[9a/93e5db] process > NFCORE_FETCHNGS:SRA:SRA_IDS... [  0%] 0 of 2\u001b[K\n",
      "[-        ] process > NFCORE_FETCHNGS:SRA:SRA_RUN... -\u001b[K\n",
      "[-        ] process > NFCORE_FETCHNGS:SRA:SRA_FAS... -\u001b[K\n",
      "[-        ] process > NFCORE_FETCHNGS:SRA:FASTQ_D... -\u001b[K\n",
      "[-        ] process > NFCORE_FETCHNGS:SRA:FASTQ_D... -\u001b[K\n",
      "[-        ] process > NFCORE_FETCHNGS:SRA:FASTQ_D... -\u001b[K\n",
      "[-        ] process > NFCORE_FETCHNGS:SRA:ASPERA_CLI -\u001b[K\n",
      "[-        ] process > NFCORE_FETCHNGS:SRA:SRA_TO_... -\u001b[K\n",
      "[-        ] process > NFCORE_FETCHNGS:SRA:MULTIQC... -\u001b[K\n",
      "\u001b[11A\n",
      "executor >  local (3)\u001b[K\n",
      "[9a/93e5db] process > NFCORE_FETCHNGS:SRA:SRA_IDS... [ 50%] 1 of 2\u001b[K\n",
      "[09/ae84bd] process > NFCORE_FETCHNGS:SRA:SRA_RUN... [  0%] 0 of 1\u001b[K\n",
      "[-        ] process > NFCORE_FETCHNGS:SRA:SRA_FAS... -\u001b[K\n",
      "[-        ] process > NFCORE_FETCHNGS:SRA:FASTQ_D... -\u001b[K\n",
      "[-        ] process > NFCORE_FETCHNGS:SRA:FASTQ_D... -\u001b[K\n",
      "[-        ] process > NFCORE_FETCHNGS:SRA:FASTQ_D... -\u001b[K\n",
      "[-        ] process > NFCORE_FETCHNGS:SRA:ASPERA_CLI -\u001b[K\n",
      "[-        ] process > NFCORE_FETCHNGS:SRA:SRA_TO_... -\u001b[K\n",
      "[-        ] process > NFCORE_FETCHNGS:SRA:MULTIQC... -\u001b[K\n",
      "\u001b[11A\n",
      "executor >  local (4)\u001b[K\n",
      "[47/b50082] process > NFCORE_FETCHNGS:SRA:SRA_IDS... [100%] 2 of 2 ✔\u001b[K\n",
      "[57/c5f852] process > NFCORE_FETCHNGS:SRA:SRA_RUN... [  0%] 0 of 2\u001b[K\n",
      "[-        ] process > NFCORE_FETCHNGS:SRA:SRA_FAS... -\u001b[K\n",
      "[-        ] process > NFCORE_FETCHNGS:SRA:FASTQ_D... -\u001b[K\n",
      "[-        ] process > NFCORE_FETCHNGS:SRA:FASTQ_D... -\u001b[K\n",
      "[-        ] process > NFCORE_FETCHNGS:SRA:FASTQ_D... -\u001b[K\n",
      "[-        ] process > NFCORE_FETCHNGS:SRA:ASPERA_CLI -\u001b[K\n",
      "[-        ] process > NFCORE_FETCHNGS:SRA:SRA_TO_... -\u001b[K\n",
      "[-        ] process > NFCORE_FETCHNGS:SRA:MULTIQC... -\u001b[K\n",
      "\u001b[11A\n",
      "executor >  local (5)\u001b[K\n",
      "[47/b50082] process > NFCORE_FETCHNGS:SRA:SRA_IDS... [100%] 2 of 2 ✔\u001b[K\n",
      "[09/ae84bd] process > NFCORE_FETCHNGS:SRA:SRA_RUN... [ 50%] 1 of 2\u001b[K\n",
      "[f2/25bbe2] process > NFCORE_FETCHNGS:SRA:SRA_FAS... [  0%] 0 of 1\u001b[K\n",
      "[-        ] process > NFCORE_FETCHNGS:SRA:FASTQ_D... -\u001b[K\n",
      "[-        ] process > NFCORE_FETCHNGS:SRA:FASTQ_D... -\u001b[K\n",
      "[-        ] process > NFCORE_FETCHNGS:SRA:FASTQ_D... -\u001b[K\n",
      "[-        ] process > NFCORE_FETCHNGS:SRA:ASPERA_CLI -\u001b[K\n",
      "[-        ] process > NFCORE_FETCHNGS:SRA:SRA_TO_... -\u001b[K\n",
      "[-        ] process > NFCORE_FETCHNGS:SRA:MULTIQC... -\u001b[K\n",
      "\u001b[11A\n",
      "executor >  local (6)\u001b[K\n",
      "[47/b50082] process > NFCORE_FETCHNGS:SRA:SRA_IDS... [100%] 2 of 2 ✔\u001b[K\n",
      "[57/c5f852] process > NFCORE_FETCHNGS:SRA:SRA_RUN... [100%] 2 of 2 ✔\u001b[K\n",
      "[a4/7a37c5] process > NFCORE_FETCHNGS:SRA:SRA_FAS... [  0%] 0 of 2\u001b[K\n",
      "[-        ] process > NFCORE_FETCHNGS:SRA:FASTQ_D... -\u001b[K\n",
      "[-        ] process > NFCORE_FETCHNGS:SRA:FASTQ_D... -\u001b[K\n",
      "[-        ] process > NFCORE_FETCHNGS:SRA:FASTQ_D... -\u001b[K\n",
      "[-        ] process > NFCORE_FETCHNGS:SRA:ASPERA_CLI -\u001b[K\n",
      "[-        ] process > NFCORE_FETCHNGS:SRA:SRA_TO_... -\u001b[K\n",
      "[-        ] process > NFCORE_FETCHNGS:SRA:MULTIQC... -\u001b[K\n",
      "\u001b[11A\n",
      "executor >  local (6)\u001b[K\n",
      "[47/b50082] process > NFCORE_FETCHNGS:SRA:SRA_IDS... [100%] 2 of 2 ✔\u001b[K\n",
      "[57/c5f852] process > NFCORE_FETCHNGS:SRA:SRA_RUN... [100%] 2 of 2 ✔\u001b[K\n",
      "[a4/7a37c5] process > NFCORE_FETCHNGS:SRA:SRA_FAS... [ 50%] 1 of 2\u001b[K\n",
      "[-        ] process > NFCORE_FETCHNGS:SRA:FASTQ_D... -\u001b[K\n",
      "[-        ] process > NFCORE_FETCHNGS:SRA:FASTQ_D... -\u001b[K\n",
      "[-        ] process > NFCORE_FETCHNGS:SRA:FASTQ_D... -\u001b[K\n",
      "[-        ] process > NFCORE_FETCHNGS:SRA:ASPERA_CLI -\u001b[K\n",
      "[-        ] process > NFCORE_FETCHNGS:SRA:SRA_TO_... -\u001b[K\n",
      "[-        ] process > NFCORE_FETCHNGS:SRA:MULTIQC... -\u001b[K\n",
      "\u001b[11A\n",
      "executor >  local (7)\u001b[K\n",
      "[47/b50082] process > NFCORE_FETCHNGS:SRA:SRA_IDS... [100%] 2 of 2 ✔\u001b[K\n",
      "[57/c5f852] process > NFCORE_FETCHNGS:SRA:SRA_RUN... [100%] 2 of 2 ✔\u001b[K\n",
      "[a4/7a37c5] process > NFCORE_FETCHNGS:SRA:SRA_FAS... [ 50%] 1 of 2\u001b[K\n",
      "[-        ] process > NFCORE_FETCHNGS:SRA:FASTQ_D... -\u001b[K\n",
      "[-        ] process > NFCORE_FETCHNGS:SRA:FASTQ_D... -\u001b[K\n",
      "[-        ] process > NFCORE_FETCHNGS:SRA:FASTQ_D... -\u001b[K\n",
      "[-        ] process > NFCORE_FETCHNGS:SRA:ASPERA_CLI -\u001b[K\n",
      "[5f/62e5a9] process > NFCORE_FETCHNGS:SRA:SRA_TO_... [100%] 1 of 1\u001b[K\n",
      "[-        ] process > NFCORE_FETCHNGS:SRA:MULTIQC... -\u001b[K\n",
      "\u001b[11A\n",
      "executor >  local (9)\u001b[K\n",
      "[47/b50082] process > NFCORE_FETCHNGS:SRA:SRA_IDS... [100%] 2 of 2 ✔\u001b[K\n",
      "[57/c5f852] process > NFCORE_FETCHNGS:SRA:SRA_RUN... [100%] 2 of 2 ✔\u001b[K\n",
      "[f2/25bbe2] process > NFCORE_FETCHNGS:SRA:SRA_FAS... [100%] 2 of 2 ✔\u001b[K\n",
      "[-        ] process > NFCORE_FETCHNGS:SRA:FASTQ_D... -\u001b[K\n",
      "[-        ] process > NFCORE_FETCHNGS:SRA:FASTQ_D... -\u001b[K\n",
      "[-        ] process > NFCORE_FETCHNGS:SRA:FASTQ_D... -\u001b[K\n",
      "[-        ] process > NFCORE_FETCHNGS:SRA:ASPERA_CLI -\u001b[K\n",
      "[b4/34f674] process > NFCORE_FETCHNGS:SRA:SRA_TO_... [100%] 2 of 2 ✔\u001b[K\n",
      "[34/83e6b9] process > NFCORE_FETCHNGS:SRA:MULTIQC... [  0%] 0 of 1\u001b[K\n",
      "\u001b[11A\n",
      "executor >  local (9)\u001b[K\n",
      "[47/b50082] process > NFCORE_FETCHNGS:SRA:SRA_IDS... [100%] 2 of 2 ✔\u001b[K\n",
      "[57/c5f852] process > NFCORE_FETCHNGS:SRA:SRA_RUN... [100%] 2 of 2 ✔\u001b[K\n",
      "[f2/25bbe2] process > NFCORE_FETCHNGS:SRA:SRA_FAS... [100%] 2 of 2 ✔\u001b[K\n",
      "[-        ] process > NFCORE_FETCHNGS:SRA:FASTQ_D... -\u001b[K\n",
      "[-        ] process > NFCORE_FETCHNGS:SRA:FASTQ_D... -\u001b[K\n",
      "[-        ] process > NFCORE_FETCHNGS:SRA:FASTQ_D... -\u001b[K\n",
      "[-        ] process > NFCORE_FETCHNGS:SRA:ASPERA_CLI -\u001b[K\n",
      "[b4/34f674] process > NFCORE_FETCHNGS:SRA:SRA_TO_... [100%] 2 of 2 ✔\u001b[K\n",
      "[34/83e6b9] process > NFCORE_FETCHNGS:SRA:MULTIQC... [100%] 1 of 1 ✔\u001b[K\n",
      "\u001b[11A\n",
      "executor >  local (9)\u001b[K\n",
      "[47/b50082] process > NFCORE_FETCHNGS:SRA:SRA_IDS... [100%] 2 of 2 ✔\u001b[K\n",
      "[57/c5f852] process > NFCORE_FETCHNGS:SRA:SRA_RUN... [100%] 2 of 2 ✔\u001b[K\n",
      "[f2/25bbe2] process > NFCORE_FETCHNGS:SRA:SRA_FAS... [100%] 2 of 2 ✔\u001b[K\n",
      "[-        ] process > NFCORE_FETCHNGS:SRA:FASTQ_D... -\u001b[K\n",
      "[-        ] process > NFCORE_FETCHNGS:SRA:FASTQ_D... -\u001b[K\n",
      "[-        ] process > NFCORE_FETCHNGS:SRA:FASTQ_D... -\u001b[K\n",
      "[-        ] process > NFCORE_FETCHNGS:SRA:ASPERA_CLI -\u001b[K\n",
      "[b4/34f674] process > NFCORE_FETCHNGS:SRA:SRA_TO_... [100%] 2 of 2 ✔\u001b[K\n",
      "[34/83e6b9] process > NFCORE_FETCHNGS:SRA:MULTIQC... [100%] 1 of 1 ✔\u001b[K\n",
      "-\u001b[0;35m[nf-core/fetchngs]\u001b[0;32m Pipeline completed successfully\u001b[0m-\u001b[K\n",
      "\u001b[33mWARN: =============================================================================\u001b[K\n",
      "  Please double-check the samplesheet that has been auto-created by the pipeline.\u001b[K\n",
      "\u001b[K\n",
      "  Public databases don't reliably hold information such as strandedness\u001b[K\n",
      "  information, controls etc\u001b[K\n",
      "\u001b[K\n",
      "  All of the sample metadata obtained from the ENA has been appended\u001b[K\n",
      "  as additional columns to help you manually curate the samplesheet before\u001b[K\n",
      "  running nf-core/other pipelines.\u001b[K\n",
      "===================================================================================\u001b[39m\u001b[K\n",
      "\u001b[22A\n",
      "executor >  local (9)\u001b[K\n",
      "[47/b50082] process > NFCORE_FETCHNGS:SRA:SRA_IDS... [100%] 2 of 2 ✔\u001b[K\n",
      "[57/c5f852] process > NFCORE_FETCHNGS:SRA:SRA_RUN... [100%] 2 of 2 ✔\u001b[K\n",
      "[f2/25bbe2] process > NFCORE_FETCHNGS:SRA:SRA_FAS... [100%] 2 of 2 ✔\u001b[K\n",
      "[-        ] process > NFCORE_FETCHNGS:SRA:FASTQ_D... -\u001b[K\n",
      "[-        ] process > NFCORE_FETCHNGS:SRA:FASTQ_D... -\u001b[K\n",
      "[-        ] process > NFCORE_FETCHNGS:SRA:FASTQ_D... -\u001b[K\n",
      "[-        ] process > NFCORE_FETCHNGS:SRA:ASPERA_CLI -\u001b[K\n",
      "[b4/34f674] process > NFCORE_FETCHNGS:SRA:SRA_TO_... [100%] 2 of 2 ✔\u001b[K\n",
      "[34/83e6b9] process > NFCORE_FETCHNGS:SRA:MULTIQC... [100%] 1 of 1 ✔\u001b[K\n",
      "-\u001b[0;35m[nf-core/fetchngs]\u001b[0;32m Pipeline completed successfully\u001b[0m-\u001b[K\n",
      "\u001b[33mWARN: =============================================================================\u001b[K\n",
      "  Please double-check the samplesheet that has been auto-created by the pipeline.\u001b[K\n",
      "\u001b[K\n",
      "  Public databases don't reliably hold information such as strandedness\u001b[K\n",
      "  information, controls etc\u001b[K\n",
      "\u001b[K\n",
      "  All of the sample metadata obtained from the ENA has been appended\u001b[K\n",
      "  as additional columns to help you manually curate the samplesheet before\u001b[K\n",
      "  running nf-core/other pipelines.\u001b[K\n",
      "===================================================================================\u001b[39m\u001b[K\n",
      "\u001b[32;1mCompleted at: 01-Oct-2024 11:21:32\n",
      "Duration    : 17m 55s\n",
      "CPU hours   : 1.2\n",
      "Succeeded   : 9\n",
      "\u001b[22;39m\u001b[K\n",
      "\n"
     ]
    }
   ],
   "source": [
    "!nextflow run nf-core/fetchngs -profile test,docker --input sample_sheet.csv --outdir test_sheet"
   ]
  },
  {
   "cell_type": "markdown",
   "metadata": {},
   "source": [
    "While your files are downloading, get back to the paper and explain how you would try to reproduce the analysis.<br>\n",
    "When you are done with this shout, so we can discuss the different ideas."
   ]
  },
  {
   "cell_type": "markdown",
   "metadata": {},
   "source": [
    "Group the data by the respective subgroup and compare expression of DEGs."
   ]
  },
  {
   "cell_type": "markdown",
   "metadata": {},
   "source": [
    "In day_2_part2"
   ]
  }
 ],
 "metadata": {
  "kernelspec": {
   "display_name": "work",
   "language": "python",
   "name": "python3"
  },
  "language_info": {
   "codemirror_mode": {
    "name": "ipython",
    "version": 3
   },
   "file_extension": ".py",
   "mimetype": "text/x-python",
   "name": "python",
   "nbconvert_exporter": "python",
   "pygments_lexer": "ipython3",
   "version": "3.10.2"
  }
 },
 "nbformat": 4,
 "nbformat_minor": 2
}
